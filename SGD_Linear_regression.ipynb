{
 "cells": [
  {
   "cell_type": "markdown",
   "metadata": {},
   "source": [
    "## Linear Regression\n",
    "\n",
    "We will use the following two methods to complete linear regression, and compare **the differences** between the two methods.\n",
    "\n",
    "* Least Square Method\n",
    "* SGD\n"
   ]
  },
  {
   "cell_type": "markdown",
   "metadata": {},
   "source": [
    "### Verifying the correctness of fully FC"
   ]
  },
  {
   "cell_type": "code",
   "execution_count": 1,
   "metadata": {},
   "outputs": [],
   "source": [
    "import numpy as np\n",
    "from check_gradient import eval_numerical_gradient_array\n",
    "import fc\n",
    "\n",
    "def rel_error(x, y):\n",
    "  \"\"\" returns relative error \"\"\"\n",
    "  return np.max(np.abs(x - y) / (np.maximum(1e-8, np.abs(x) + np.abs(y))))"
   ]
  },
  {
   "cell_type": "markdown",
   "metadata": {},
   "source": [
    "#### FC forward"
   ]
  },
  {
   "cell_type": "code",
   "execution_count": 2,
   "metadata": {},
   "outputs": [
    {
     "name": "stdout",
     "output_type": "stream",
     "text": [
      "difference:  9.769848888397517e-10\n"
     ]
    }
   ],
   "source": [
    "num_inputs = 2\n",
    "input_shape = (4, 5, 6)\n",
    "output_dim = 3\n",
    "\n",
    "input_size = num_inputs * np.prod(input_shape)\n",
    "weight_size = output_dim * np.prod(input_shape)\n",
    "\n",
    "x = np.linspace(-0.1, 0.5, num=input_size).reshape(num_inputs, *input_shape)\n",
    "w = np.linspace(-0.2, 0.3, num=weight_size).reshape(np.prod(input_shape), output_dim)\n",
    "b = np.linspace(-0.3, 0.1, num=output_dim)\n",
    "\n",
    "out, _ = fc.affine_forward(x, w, b)\n",
    "correct_out = np.array([[ 1.49834967,  1.70660132,  1.91485297],\n",
    "                        [ 3.25553199,  3.5141327,   3.77273342]])\n",
    "\n",
    "print('difference: ', rel_error(out, correct_out))"
   ]
  },
  {
   "cell_type": "markdown",
   "metadata": {},
   "source": [
    "#### FC backward\n",
    "\n",
    "the different between formula gradient and numerical gradient must be little small"
   ]
  },
  {
   "cell_type": "code",
   "execution_count": 3,
   "metadata": {},
   "outputs": [
    {
     "name": "stdout",
     "output_type": "stream",
     "text": [
      "dx error:  2.1605314711732498e-10\n",
      "dw error:  1.9151427697996096e-10\n",
      "db error:  1.939948015727141e-11\n"
     ]
    }
   ],
   "source": [
    "x = np.random.randn(10, 2, 3)\n",
    "w = np.random.randn(6, 5)\n",
    "b = np.random.randn(5)\n",
    "dout = np.random.randn(10, 5)\n",
    "\n",
    "dx_num = eval_numerical_gradient_array(lambda x: fc.affine_forward(x, w, b)[0], x, dout)\n",
    "dw_num = eval_numerical_gradient_array(lambda w: fc.affine_forward(x, w, b)[0], w, dout)\n",
    "db_num = eval_numerical_gradient_array(lambda b: fc.affine_forward(x, w, b)[0], b, dout)\n",
    "\n",
    "_, cache = fc.affine_forward(x, w, b)\n",
    "dx, dw, db = fc.affine_backward(dout, cache)\n",
    "\n",
    "# The error should be around 1e-10\n",
    "print ('dx error: ', rel_error(dx_num, dx))\n",
    "print ('dw error: ', rel_error(dw_num, dw))\n",
    "print ('db error: ', rel_error(db_num, db))"
   ]
  },
  {
   "cell_type": "markdown",
   "metadata": {},
   "source": [
    "### Make dataset"
   ]
  },
  {
   "cell_type": "code",
   "execution_count": 4,
   "metadata": {},
   "outputs": [],
   "source": [
    "import random\n",
    "import numpy as np\n",
    "from sklearn.datasets import make_regression\n",
    "import matplotlib.pyplot as plt"
   ]
  },
  {
   "cell_type": "code",
   "execution_count": 5,
   "metadata": {},
   "outputs": [
    {
     "data": {
      "image/png": "[encoded data removed]",
      "text/plain": [
       "<matplotlib.figure.Figure at 0x7f397a69b9b0>"
      ]
     },
     "metadata": {},
     "output_type": "display_data"
    }
   ],
   "source": [
    "## sample 1\n",
    "# X_train,y_train,coef = make_regression(n_samples=1000,n_features=1,noise=10,coef=True, bias=True)\n",
    "# print(coef)\n",
    "\n",
    "## sample 2\n",
    "X_train = np.random.normal(scale=1,size=(1000,1))\n",
    "y_train = 5.412 * X_train + 0.84 + np.random.normal(scale=1,size=(1000,1))\n",
    "plt.scatter(X_train, y_train, s=1)\n",
    "plt.show()\n"
   ]
  },
  {
   "cell_type": "markdown",
   "metadata": {},
   "source": [
    "### Least Square Method\n",
    "$$min_{w,b}\\sum_i(y_i - (wx_i +b))^2$$\n",
    "$$|Y-X*w|^2$$\n",
    "对上面公式进行求导:\n",
    "$$ Xw =Y$$\n",
    "$$X^TXw =X^TY$$\n",
    "$$w =(X^TX)^{-1}X^TY$$"
   ]
  },
  {
   "cell_type": "code",
   "execution_count": 6,
   "metadata": {},
   "outputs": [
    {
     "name": "stdout",
     "output_type": "stream",
     "text": [
      "[[5.42088394]\n",
      " [0.85759116]]\n"
     ]
    }
   ],
   "source": [
    "# Incorporating biases into weights\n",
    "\n",
    "bias_feature = np.ones((X_train.shape[0],1))\n",
    "X_train_L = np.hstack([X_train, bias_feature]) \n",
    "\n",
    "w = np.linalg.inv(X_train_L.T.dot(X_train_L)).dot(X_train_L.T).dot(y_train)\n",
    "print(w)"
   ]
  },
  {
   "cell_type": "code",
   "execution_count": 7,
   "metadata": {},
   "outputs": [
    {
     "data": {
      "image/png": "[encoded data removed]",
      "text/plain": [
       "<matplotlib.figure.Figure at 0x7f397a69b2b0>"
      ]
     },
     "metadata": {},
     "output_type": "display_data"
    }
   ],
   "source": [
    "plt.scatter(X_train, y_train, s=1, c=\"g\")\n",
    "index_x = np.array([[i, 1] for i in np.arange(-3, 3, 0.2)])\n",
    "plt.plot(index_x[:,0], index_x.dot(w), c=\"b\")\n",
    "plt.show()"
   ]
  },
  {
   "cell_type": "markdown",
   "metadata": {},
   "source": [
    "### SGD\n",
    "#### Define one FC layer\n",
    "* the X is (batch, c1,c2,.. cn)\n",
    "* network_config = {\"input\": number of features, \"1\":(\"fc\",(input_dims, output_dims)), ...}"
   ]
  },
  {
   "cell_type": "code",
   "execution_count": 8,
   "metadata": {},
   "outputs": [],
   "source": [
    "from model import Model\n",
    "from loss import L2_loss\n",
    "\n",
    "class Onefc(Model):\n",
    "    def __init_(number_layer, network_config, weight_scale):\n",
    "        super.__init__(number_layer, network_config, weight_scale)\n",
    "    def inference_network(self, X):\n",
    "        h1, cache = fc.affine_forward(X, self.params[\"W1\"], self.params[\"b1\"])\n",
    "        return h1, cache\n",
    "\n",
    "    def loss(self, X, y, mode=\"train\"):\n",
    "        h1, cache = self.inference_network(X)\n",
    "        loss, dh1 = L2_loss(h1, y)\n",
    "        grads = {}\n",
    "        if mode==\"train\":\n",
    "            df, grads[\"W1\"], grads[\"b1\"] = fc.affine_backward(dh1, cache)\n",
    "        return loss, grads "
   ]
  },
  {
   "cell_type": "markdown",
   "metadata": {},
   "source": [
    "#### Define Solver\n",
    "建立 solver这个类主要原因在于:优化参数随着迭代的进行在发生变化, 同时这种变化必须需要存储."
   ]
  },
  {
   "cell_type": "code",
   "execution_count": 9,
   "metadata": {},
   "outputs": [
    {
     "name": "stdout",
     "output_type": "stream",
     "text": [
      "(1000, 1)\n",
      "(Iteration 1001 / 10000) loss: 1.006126\n",
      "(Iteration 2001 / 10000) loss: 1.086691\n",
      "(Iteration 3001 / 10000) loss: 0.959451\n",
      "(Iteration 4001 / 10000) loss: 0.970789\n",
      "(Iteration 5001 / 10000) loss: 1.110114\n",
      "(Iteration 6001 / 10000) loss: 0.795985\n",
      "(Iteration 7001 / 10000) loss: 0.919669\n",
      "(Iteration 8001 / 10000) loss: 0.985333\n",
      "(Iteration 9001 / 10000) loss: 0.846889\n"
     ]
    }
   ],
   "source": [
    "from solver import Solver\n",
    "print(np.shape(y_train))\n",
    "data = {\n",
    "    \"X_train\":X_train,\n",
    "    \"y_train\":y_train\n",
    "}\n",
    "one_fc = Onefc(number_layer=1, network_config ={\"input\":1, \"1\":(\"fc\",(1,1))}, weight_scale=0.001)\n",
    "solver = Solver(one_fc, data,  \n",
    "                update_rule='sgd_momentum',\n",
    "                optim_config={\n",
    "                  'learning_rate': 1e-3},\n",
    "                batch_size=200,\n",
    "                print_every=1000)\n",
    "solver.train(num_iterations=10000)"
   ]
  },
  {
   "cell_type": "code",
   "execution_count": 10,
   "metadata": {},
   "outputs": [
    {
     "name": "stdout",
     "output_type": "stream",
     "text": [
      "[[5.41439948]] [0.85861476]\n"
     ]
    },
    {
     "data": {
      "image/png": "[encoded data removed]",
      "text/plain": [
       "<matplotlib.figure.Figure at 0x7f397a3a7978>"
      ]
     },
     "metadata": {},
     "output_type": "display_data"
    }
   ],
   "source": [
    "print(one_fc.params[\"W1\"], one_fc.params[\"b1\"])\n",
    "plt.scatter(X_train, y_train, s=1, c=\"g\")\n",
    "index_x = np.array([[i] for i in np.arange(-3, 3, 0.2)])\n",
    "plt.plot(index_x[:,0], one_fc.inference_network(index_x)[0], c=\"b\")\n",
    "plt.show()"
   ]
  },
  {
   "cell_type": "markdown",
   "metadata": {},
   "source": [
    "### Conclusion  \n",
    "两种方法最终的结果差别不大, 可以从两个角度去思考:\n",
    "* 两个方法都是采用损失函数的一阶梯度进行优化.\n",
    "* SGD采用的mini-batch的方式得到最终结果(局部最优), 和LSM利用全部样本得出的最优值(全局最优),结果相差不大. 说明mini-batch的有效性."
   ]
  }
 ],
 "metadata": {
  "kernelspec": {
   "display_name": "Python 3",
   "language": "python",
   "name": "python3"
  },
  "language_info": {
   "codemirror_mode": {
    "name": "ipython",
    "version": 3
   },
   "file_extension": ".py",
   "mimetype": "text/x-python",
   "name": "python",
   "nbconvert_exporter": "python",
   "pygments_lexer": "ipython3",
   "version": "3.6.2"
  }
 },
 "nbformat": 4,
 "nbformat_minor": 2
}
